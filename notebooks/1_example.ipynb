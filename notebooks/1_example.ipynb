{
 "cells": [
  {
   "cell_type": "code",
   "execution_count": null,
   "metadata": {},
   "outputs": [],
   "source": [
    "from eboekhouden_python import EboekhoudenClient\n",
    "from eboekhouden_python.models import Mutatie, MutatieRegel\n",
    "from eboekhouden_python.constants import MutatieSoort, InExBTW, BtwCode"
   ]
  },
  {
   "cell_type": "code",
   "execution_count": null,
   "metadata": {},
   "outputs": [],
   "source": [
    "client = EboekhoudenClient()"
   ]
  },
  {
   "cell_type": "code",
   "execution_count": null,
   "metadata": {},
   "outputs": [],
   "source": [
    "regel = MutatieRegel.from_bedrag(\n",
    "    bedrag_invoer=100,\n",
    "    btw_code=BtwCode.hoog_verkoop_21,\n",
    "    tegenrekening_code=\"8140\",\n",
    ")\n",
    "mutatie = Mutatie(\n",
    "    soort=MutatieSoort.factuur_verstuurd,\n",
    "    datum=\"2023-04-03\",\n",
    "    rekening=\"1300\",\n",
    "    relatie_code=\"JR-36\",\n",
    "    factuur_nummer=\"test-1234\",\n",
    "    omschrijving=\"jup\",\n",
    "    betalingstermijn=\"14\",\n",
    "    inclusief_exclusief_btw=InExBTW.inclusief,\n",
    "    betalingskenmerk=None,\n",
    "    mutatie_regels=[regel],\n",
    ")"
   ]
  },
  {
   "cell_type": "code",
   "execution_count": null,
   "metadata": {},
   "outputs": [],
   "source": [
    "r = client.add_mutatie(mutatie=mutatie)\n",
    "\n",
    "r"
   ]
  }
 ],
 "metadata": {
  "kernelspec": {
   "display_name": "eboekhouden-python",
   "language": "python",
   "name": "python3"
  },
  "language_info": {
   "codemirror_mode": {
    "name": "ipython",
    "version": 3
   },
   "file_extension": ".py",
   "mimetype": "text/x-python",
   "name": "python",
   "nbconvert_exporter": "python",
   "pygments_lexer": "ipython3",
   "version": "3.11.2"
  }
 },
 "nbformat": 4,
 "nbformat_minor": 2
}
