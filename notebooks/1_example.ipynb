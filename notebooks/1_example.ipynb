{
 "cells": [
  {
   "cell_type": "code",
   "execution_count": null,
   "metadata": {},
   "outputs": [],
   "source": [
    "from eboekhouden_python import EboekhoudenClient\n",
    "from eboekhouden_python.models import Mutatie, MutatieRegel\n",
    "from eboekhouden_python.constants import MutatieSoort, InExBTW, BtwCode"
   ]
  },
  {
   "cell_type": "code",
   "execution_count": null,
   "metadata": {},
   "outputs": [],
   "source": [
    "client = EboekhoudenClient()\n"
   ]
  },
  {
   "cell_type": "code",
   "execution_count": null,
   "metadata": {},
   "outputs": [],
   "source": [
    "mutatie = Mutatie(\n",
    "        mutatie_nummer=1,\n",
    "        soort=\"1\",\n",
    "        datum=\"2020-01-01\",\n",
    "        rekening=\"1\",\n",
    "        relatie_code=\"1\",\n",
    "        factuur_nummer=1,\n",
    "        boekstuk=\"1\",\n",
    "        omschrijving=\"1\",\n",
    "        betalingstermijn=\"1\",\n",
    "        betalingskenmerk=\"1\",\n",
    "        inclusief_exclusief_btw=\"1\",\n",
    "        mutatie_regels=[\n",
    "            MutatieRegel(\n",
    "                bedrag_invoer=1.0,\n",
    "                bedrag_exclusief_btw=1.0,\n",
    "                bedrag_btw=1.0,\n",
    "                bedrag_inclusief_btw=1.0,\n",
    "                btw_code=\"1\",\n",
    "                btw_percentage=1.0,\n",
    "                tegenrekening_code=\"1\",\n",
    "                kostenplaats_id=1,\n",
    "            )\n",
    "        ],\n",
    "    )\n"
   ]
  },
  {
   "cell_type": "code",
   "execution_count": null,
   "metadata": {},
   "outputs": [],
   "source": [
    "print(mutatie.to_string())"
   ]
  },
  {
   "cell_type": "code",
   "execution_count": null,
   "metadata": {},
   "outputs": [],
   "source": [
    "mutatie_regel = MutatieRegel(\n",
    "    bedrag_invoer=\"1.21\",\n",
    "    bedrag_exclusief_btw=\"1.0\",\n",
    "    bedrag_btw=\"0.21\",\n",
    "    bedrag_inclusief_btw=\"1.21\",\n",
    "    btw_code=\"1\",\n",
    "    btw_percentage=\"21\",\n",
    "    tegenrekening_code=\"1\",\n",
    ")\n",
    "\n",
    "print(mutatie_regel.to_string())\n"
   ]
  },
  {
   "cell_type": "code",
   "execution_count": null,
   "metadata": {},
   "outputs": [],
   "source": []
  }
 ],
 "metadata": {
  "kernelspec": {
   "display_name": "eboekhouden-python",
   "language": "python",
   "name": "python3"
  },
  "language_info": {
   "codemirror_mode": {
    "name": "ipython",
    "version": 3
   },
   "file_extension": ".py",
   "mimetype": "text/x-python",
   "name": "python",
   "nbconvert_exporter": "python",
   "pygments_lexer": "ipython3",
   "version": "3.11.2"
  }
 },
 "nbformat": 4,
 "nbformat_minor": 2
}
